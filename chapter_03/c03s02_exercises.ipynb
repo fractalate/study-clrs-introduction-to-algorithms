{
 "cells": [
  {
   "cell_type": "markdown",
   "id": "e080803d-1056-4040-ab02-f16806e3b532",
   "metadata": {},
   "source": [
    "# Chapter 3.2 Exercises"
   ]
  },
  {
   "cell_type": "markdown",
   "id": "a03a6c68-2937-4d74-8dce-ed7a2a9f2ac1",
   "metadata": {},
   "source": [
    "## Definitions\n",
    "\n",
    "$$\n",
    "\\begin{align*}\n",
    "    \\Theta(g(n)) = \\left\\{ f(n) : \\text{there exits positive constants $c_1$, $c_2$, and $n_0$ such that\n",
    "        $0 \\le c_1 g(n) \\le f(n) \\le c_2 g(n)$ for all $n \\ge n_0$} \\right\\}.\n",
    "\\end{align*}\n",
    "$$\n",
    "\n",
    "## Lemmas\n",
    "\n",
    "If $\\lim_{n\\to\\inf} \\frac{f(n)}{g(n)} = c$ for some constant $c > 0$, then $f(n) = \\Theta(g(n))$.\n",
    "\n",
    "Proof: suppose the limit approaches such a $c$. Then for any $\\epsilon > 0$ there exists $n_0$ such that for $n \\ge n_0$ we have\n",
    "\n",
    "$$\n",
    "\\begin{align*}\n",
    "    \\left| \\frac{f(n)}{g(n)} -c \\right| &< \\epsilon\n",
    "\\end{align*}\n",
    "$$\n",
    "\n",
    "so then\n",
    "\n",
    "$$\n",
    "\\begin{align*}\n",
    "    -\\epsilon \\le -\\epsilon < \\frac{f(n)}{g(n)} -c < \\epsilon \\le \\epsilon \\\\\n",
    "\\end{align*}\n",
    "$$\n",
    "\n",
    "so ultimately we have\n",
    "\n",
    "$$\n",
    "\\begin{align*}\n",
    "    (c - \\epsilon)g(n) \\le f(n) \\le (c + \\epsilon)g(n). \\\\\n",
    "\\end{align*}\n",
    "$$\n",
    "\n",
    "Let $c_1 = c - \\epsilon$ and $c_2 = c + \\epsilon$. If we choose $0 < \\epsilon < c$, then we find that $c_1$ and $c_2$ are positive constants. Therefore $f(n) = \\Theta(g(n))$."
   ]
  },
  {
   "cell_type": "markdown",
   "id": "cf15328f-ebf6-4dfd-b4d8-7d3a63102d0a",
   "metadata": {},
   "source": [
    "## References\n",
    "\n",
    "Stirling's Approximation\n",
    "\n",
    "$$\n",
    "\\begin{align*}\n",
    "    n! = \\sqrt{2 \\pi n} \\left( \\frac{n}{e} \\right)^n \\left( 1 + \\Theta\\left(\\frac{1}{n}\\right) \\right) \\tag{3.18}\n",
    "\\end{align*}\n",
    "$$\n",
    "\n",
    "Alternatively, we can express Stirling's approximation as\n",
    "\n",
    "$$\n",
    "\\begin{align*}\n",
    "    n! = \\sqrt{2 \\pi n} \\left( \\frac{n}{e} \\right)^n e^{\\alpha_n} \\tag{3.20}\n",
    "\\end{align*}\n",
    "$$\n",
    "\n",
    "where\n",
    "\n",
    "$$\n",
    "\\begin{align*}\n",
    "    \\frac{1}{12n + 1} \\le \\alpha_n \\le \\frac{1}{12n}. \\tag{3.21}\n",
    "\\end{align*}\n",
    "$$"
   ]
  },
  {
   "cell_type": "markdown",
   "id": "3b9b037b-4f78-4a5e-90d6-5b3010f972f6",
   "metadata": {},
   "source": [
    "# Exercise 3.2-3 (WIP)\n",
    "\n",
    "Prove equation (3.19). **TODO** Also prove that $n! = \\omega(2^n)$ and **TODO** $n! = o(n^n)$.\n",
    "\n",
    "$$\n",
    "\\begin{align*}\n",
    "    \\lg(n!) = \\Theta(n \\lg n) \\tag{3.19}\n",
    "\\end{align*}\n",
    "$$"
   ]
  },
  {
   "cell_type": "markdown",
   "id": "68489605-f662-4f15-a236-28305d1b05f3",
   "metadata": {},
   "source": [
    "For the first part, we an use Stirling's approximation for $n!$ and consider $\\lg(n!)$ of the approximated value and argue that it's in $\\Theta(n \\lg n)$."
   ]
  },
  {
   "cell_type": "markdown",
   "id": "ca2677fc-7b14-425d-890f-251c8264487c",
   "metadata": {},
   "source": [
    "Using Stirling's approximation we have:\n",
    "\n",
    "$$\n",
    "\\begin{align*}\n",
    "    \\lg\\left( n! \\right) = \\lg\\left( \\sqrt{2 \\pi n} \\left( \\frac{n}{e} \\right)^n e^{\\alpha_n} \\right)\n",
    "\\end{align*}\n",
    "$$\n",
    "\n",
    "where\n",
    "\n",
    "$$\n",
    "\\begin{align*}\n",
    "    \\frac{1}{12n + 1} \\le \\alpha_n \\le \\frac{1}{12n}.\n",
    "\\end{align*}\n",
    "$$\n",
    "\n",
    "Then\n",
    "\n",
    "$$\n",
    "\\begin{align*}\n",
    "  \\lg\\left( n! \\right)\n",
    "    &= \\lg\\left( \\sqrt{2 \\pi n} \\left( \\frac{n}{e} \\right)^n e^{\\alpha_n} \\right) \\\\\n",
    "    &= \\lg\\left( \\sqrt{2 \\pi} \\right) + \\lg\\left( \\sqrt{n} \\left( \\frac{n}{e} \\right)^n \\right) + \\lg\\left( e^{\\alpha_n} \\right) \\\\\n",
    "    &= \\lg\\left( \\sqrt{2 \\pi} \\right) + \\lg\\left( \\sqrt{n} \\left( \\frac{n}{e} \\right)^n \\right) + \\alpha_n \\lg e \\\\\n",
    "    &= \\lg\\left( \\sqrt{2 \\pi} \\right) + \\lg\\left( \\sqrt{n} \\right) + \\lg\\left( \\left( \\frac{n}{e} \\right)^n \\right) + \\alpha_n \\lg e \\\\\n",
    "    &= \\lg\\left( \\sqrt{2 \\pi} \\right) + \\lg\\left( \\sqrt{n} \\right) + \\lg\\left( n^n \\right) - \\lg\\left(e^n\\right) + \\alpha_n \\lg e \\\\\n",
    "    &= \\lg\\left( \\sqrt{2 \\pi} \\right) + \\lg\\left( \\sqrt{n} \\right) + n \\lg\\left( n \\right) - n \\lg\\left(e\\right) + \\alpha_n \\lg e. \\\\\n",
    "\\end{align*}\n",
    "$$\n",
    "\n",
    "Consider\n",
    "\n",
    "$$\n",
    "\\begin{align*}\n",
    "    \\lim_{n\\to\\inf}\n",
    "        \\frac{\\lg\\left( n! \\right)}{n \\lg\\left(n \\right)}\n",
    "    = \\lim_{n\\to\\inf}\n",
    "        \\frac{\n",
    "            \\lg\\left( \\sqrt{2 \\pi} \\right) + \\lg\\left( \\sqrt{n} \\right) + n \\lg\\left( n \\right) - n \\lg\\left(e\\right) + \\alpha_n \\lg e\n",
    "        }{n \\lg\\left(n \\right)}\n",
    "    = \\lim_{n\\to\\inf} \\frac{\n",
    "            n \\lg\\left( n \\right)\n",
    "        }{n \\lg\\left( n \\right)}\n",
    "    = 1\n",
    "\\end{align*}\n",
    "$$\n",
    "\n",
    "since $\\alpha_n \\to 0$ as $n \\to 0$ and $n \\lg\\left(n\\right)$ is the dominating term in the numerator. Therefore $\\lg(n!) = \\Theta(n \\lg n)$."
   ]
  },
  {
   "cell_type": "code",
   "execution_count": null,
   "id": "54ff2bb8-a175-4d18-8b9b-c52f9aadc3f4",
   "metadata": {},
   "outputs": [],
   "source": []
  }
 ],
 "metadata": {
  "kernelspec": {
   "display_name": "Python 3 (ipykernel)",
   "language": "python",
   "name": "python3"
  },
  "language_info": {
   "codemirror_mode": {
    "name": "ipython",
    "version": 3
   },
   "file_extension": ".py",
   "mimetype": "text/x-python",
   "name": "python",
   "nbconvert_exporter": "python",
   "pygments_lexer": "ipython3",
   "version": "3.11.2"
  }
 },
 "nbformat": 4,
 "nbformat_minor": 5
}
