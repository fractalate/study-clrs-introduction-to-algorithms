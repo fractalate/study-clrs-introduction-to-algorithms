{
 "cells": [
  {
   "cell_type": "markdown",
   "id": "af6c1b32-8331-48bc-b5c8-1b2a7646244c",
   "metadata": {},
   "source": [
    "# 3-1\n",
    "\n",
    "Let\n",
    "\n",
    "\\begin{align*}\n",
    "p(n) = \\sum_{i=0}^d a_i n^i\n",
    "\\end{align*}\n",
    "\n",
    "where $a_d > 0$, be a degree-$d$ polynomial in $n$, and let $k$ be a constant. Use the definitions of the asymptotic notations to prove the following properties.\n",
    "\n",
    "**a)** If $k \\ge d$, then $p(n) = O(n^k)$.\n",
    "\n",
    "The other parts are omitted."
   ]
  },
  {
   "cell_type": "markdown",
   "id": "35c6ed8c-a061-4402-a6d2-01fb061034a0",
   "metadata": {},
   "source": [
    "Consider the limit of the ratio\n",
    "\n",
    "\\begin{align*}\n",
    "\\lim_{n\\to\\infty} \\frac{p(n)}{n^k}\n",
    "    &= \\lim_{n\\to\\infty} \\frac{a_d n^d + a_{d-1} n^{d-1} + \\dots + a_0}{n^k} \\\\\n",
    "    &= \\lim_{n\\to\\infty} \\frac{a_d + a_{d-1}/n + \\dots + a_0/{n^d}}{n^{k-d}} \\\\\n",
    "    &= \\lim_{n\\to\\infty} \\frac{a_d}{n^{k-d}}.\n",
    "\\end{align*}\n",
    "\n",
    "If $k > d$, then the limit approaches $0$ and if $k = d$, then the limit approaches $a_d$. In either case, there exists a $c$ such that for sufficiently large $n$ the limit is less than or equal to $c$, or rather\n",
    "\n",
    "\\begin{align*}\n",
    "\\frac{p(n)}{n^k} &\\le c; \\\\\n",
    "p(n) &\\le c n^k.\n",
    "\\end{align*}\n",
    "\n",
    "Since $a_d > 0$, then for sufficiently large $n$ we have $p(n) > 0$. So $p(n)$ satisfies the criteria to be in $O(n^k)$."
   ]
  },
  {
   "cell_type": "code",
   "execution_count": null,
   "id": "e02305c3-1039-4933-a9ac-3cd8afcc0402",
   "metadata": {},
   "outputs": [],
   "source": []
  }
 ],
 "metadata": {
  "kernelspec": {
   "display_name": "Python 3 (ipykernel)",
   "language": "python",
   "name": "python3"
  },
  "language_info": {
   "codemirror_mode": {
    "name": "ipython",
    "version": 3
   },
   "file_extension": ".py",
   "mimetype": "text/x-python",
   "name": "python",
   "nbconvert_exporter": "python",
   "pygments_lexer": "ipython3",
   "version": "3.11.2"
  }
 },
 "nbformat": 4,
 "nbformat_minor": 5
}
